{
  "nbformat": 4,
  "nbformat_minor": 0,
  "metadata": {
    "colab": {
      "provenance": [],
      "mount_file_id": "1fDnkBqFgFi9Sp2WyDgGsOffICFz0wgod",
      "authorship_tag": "ABX9TyOVFFC+wy1o4C4gzHes1ZPC",
      "include_colab_link": true
    },
    "kernelspec": {
      "name": "python3",
      "display_name": "Python 3"
    },
    "language_info": {
      "name": "python"
    },
    "widgets": {
      "application/vnd.jupyter.widget-state+json": {
        "b50219c8aa8b4d64b0ca04d905363667": {
          "model_module": "@jupyter-widgets/controls",
          "model_name": "HBoxModel",
          "model_module_version": "1.5.0",
          "state": {
            "_dom_classes": [],
            "_model_module": "@jupyter-widgets/controls",
            "_model_module_version": "1.5.0",
            "_model_name": "HBoxModel",
            "_view_count": null,
            "_view_module": "@jupyter-widgets/controls",
            "_view_module_version": "1.5.0",
            "_view_name": "HBoxView",
            "box_style": "",
            "children": [
              "IPY_MODEL_a6173c42be9046378e394443d1222e74",
              "IPY_MODEL_569641f6043a4ccdbc8737ebdd30fe8e",
              "IPY_MODEL_c94dff6f799f45169c91926e4c3ce42c"
            ],
            "layout": "IPY_MODEL_93227b2b9eaf4e0fb480b9cd6c49f0d1"
          }
        },
        "a6173c42be9046378e394443d1222e74": {
          "model_module": "@jupyter-widgets/controls",
          "model_name": "HTMLModel",
          "model_module_version": "1.5.0",
          "state": {
            "_dom_classes": [],
            "_model_module": "@jupyter-widgets/controls",
            "_model_module_version": "1.5.0",
            "_model_name": "HTMLModel",
            "_view_count": null,
            "_view_module": "@jupyter-widgets/controls",
            "_view_module_version": "1.5.0",
            "_view_name": "HTMLView",
            "description": "",
            "description_tooltip": null,
            "layout": "IPY_MODEL_b163c2a78d0e4fdbaa665e7ea0d329a8",
            "placeholder": "​",
            "style": "IPY_MODEL_07bd0d3744ad47148d42919ee59a77e0",
            "value": "Downloading (…)lve/main/config.json: 100%"
          }
        },
        "569641f6043a4ccdbc8737ebdd30fe8e": {
          "model_module": "@jupyter-widgets/controls",
          "model_name": "FloatProgressModel",
          "model_module_version": "1.5.0",
          "state": {
            "_dom_classes": [],
            "_model_module": "@jupyter-widgets/controls",
            "_model_module_version": "1.5.0",
            "_model_name": "FloatProgressModel",
            "_view_count": null,
            "_view_module": "@jupyter-widgets/controls",
            "_view_module_version": "1.5.0",
            "_view_name": "ProgressView",
            "bar_style": "success",
            "description": "",
            "description_tooltip": null,
            "layout": "IPY_MODEL_bfb6613f0c574f4eb3165ad3fa24aa0c",
            "max": 467,
            "min": 0,
            "orientation": "horizontal",
            "style": "IPY_MODEL_3ff9e28ee8754d37b175e58211aa78db",
            "value": 467
          }
        },
        "c94dff6f799f45169c91926e4c3ce42c": {
          "model_module": "@jupyter-widgets/controls",
          "model_name": "HTMLModel",
          "model_module_version": "1.5.0",
          "state": {
            "_dom_classes": [],
            "_model_module": "@jupyter-widgets/controls",
            "_model_module_version": "1.5.0",
            "_model_name": "HTMLModel",
            "_view_count": null,
            "_view_module": "@jupyter-widgets/controls",
            "_view_module_version": "1.5.0",
            "_view_name": "HTMLView",
            "description": "",
            "description_tooltip": null,
            "layout": "IPY_MODEL_adf7c50a7ca94fb29efaf85e61559a75",
            "placeholder": "​",
            "style": "IPY_MODEL_7b9d3537644145bdae99c7b2e9284519",
            "value": " 467/467 [00:00&lt;00:00, 7.02kB/s]"
          }
        },
        "93227b2b9eaf4e0fb480b9cd6c49f0d1": {
          "model_module": "@jupyter-widgets/base",
          "model_name": "LayoutModel",
          "model_module_version": "1.2.0",
          "state": {
            "_model_module": "@jupyter-widgets/base",
            "_model_module_version": "1.2.0",
            "_model_name": "LayoutModel",
            "_view_count": null,
            "_view_module": "@jupyter-widgets/base",
            "_view_module_version": "1.2.0",
            "_view_name": "LayoutView",
            "align_content": null,
            "align_items": null,
            "align_self": null,
            "border": null,
            "bottom": null,
            "display": null,
            "flex": null,
            "flex_flow": null,
            "grid_area": null,
            "grid_auto_columns": null,
            "grid_auto_flow": null,
            "grid_auto_rows": null,
            "grid_column": null,
            "grid_gap": null,
            "grid_row": null,
            "grid_template_areas": null,
            "grid_template_columns": null,
            "grid_template_rows": null,
            "height": null,
            "justify_content": null,
            "justify_items": null,
            "left": null,
            "margin": null,
            "max_height": null,
            "max_width": null,
            "min_height": null,
            "min_width": null,
            "object_fit": null,
            "object_position": null,
            "order": null,
            "overflow": null,
            "overflow_x": null,
            "overflow_y": null,
            "padding": null,
            "right": null,
            "top": null,
            "visibility": null,
            "width": null
          }
        },
        "b163c2a78d0e4fdbaa665e7ea0d329a8": {
          "model_module": "@jupyter-widgets/base",
          "model_name": "LayoutModel",
          "model_module_version": "1.2.0",
          "state": {
            "_model_module": "@jupyter-widgets/base",
            "_model_module_version": "1.2.0",
            "_model_name": "LayoutModel",
            "_view_count": null,
            "_view_module": "@jupyter-widgets/base",
            "_view_module_version": "1.2.0",
            "_view_name": "LayoutView",
            "align_content": null,
            "align_items": null,
            "align_self": null,
            "border": null,
            "bottom": null,
            "display": null,
            "flex": null,
            "flex_flow": null,
            "grid_area": null,
            "grid_auto_columns": null,
            "grid_auto_flow": null,
            "grid_auto_rows": null,
            "grid_column": null,
            "grid_gap": null,
            "grid_row": null,
            "grid_template_areas": null,
            "grid_template_columns": null,
            "grid_template_rows": null,
            "height": null,
            "justify_content": null,
            "justify_items": null,
            "left": null,
            "margin": null,
            "max_height": null,
            "max_width": null,
            "min_height": null,
            "min_width": null,
            "object_fit": null,
            "object_position": null,
            "order": null,
            "overflow": null,
            "overflow_x": null,
            "overflow_y": null,
            "padding": null,
            "right": null,
            "top": null,
            "visibility": null,
            "width": null
          }
        },
        "07bd0d3744ad47148d42919ee59a77e0": {
          "model_module": "@jupyter-widgets/controls",
          "model_name": "DescriptionStyleModel",
          "model_module_version": "1.5.0",
          "state": {
            "_model_module": "@jupyter-widgets/controls",
            "_model_module_version": "1.5.0",
            "_model_name": "DescriptionStyleModel",
            "_view_count": null,
            "_view_module": "@jupyter-widgets/base",
            "_view_module_version": "1.2.0",
            "_view_name": "StyleView",
            "description_width": ""
          }
        },
        "bfb6613f0c574f4eb3165ad3fa24aa0c": {
          "model_module": "@jupyter-widgets/base",
          "model_name": "LayoutModel",
          "model_module_version": "1.2.0",
          "state": {
            "_model_module": "@jupyter-widgets/base",
            "_model_module_version": "1.2.0",
            "_model_name": "LayoutModel",
            "_view_count": null,
            "_view_module": "@jupyter-widgets/base",
            "_view_module_version": "1.2.0",
            "_view_name": "LayoutView",
            "align_content": null,
            "align_items": null,
            "align_self": null,
            "border": null,
            "bottom": null,
            "display": null,
            "flex": null,
            "flex_flow": null,
            "grid_area": null,
            "grid_auto_columns": null,
            "grid_auto_flow": null,
            "grid_auto_rows": null,
            "grid_column": null,
            "grid_gap": null,
            "grid_row": null,
            "grid_template_areas": null,
            "grid_template_columns": null,
            "grid_template_rows": null,
            "height": null,
            "justify_content": null,
            "justify_items": null,
            "left": null,
            "margin": null,
            "max_height": null,
            "max_width": null,
            "min_height": null,
            "min_width": null,
            "object_fit": null,
            "object_position": null,
            "order": null,
            "overflow": null,
            "overflow_x": null,
            "overflow_y": null,
            "padding": null,
            "right": null,
            "top": null,
            "visibility": null,
            "width": null
          }
        },
        "3ff9e28ee8754d37b175e58211aa78db": {
          "model_module": "@jupyter-widgets/controls",
          "model_name": "ProgressStyleModel",
          "model_module_version": "1.5.0",
          "state": {
            "_model_module": "@jupyter-widgets/controls",
            "_model_module_version": "1.5.0",
            "_model_name": "ProgressStyleModel",
            "_view_count": null,
            "_view_module": "@jupyter-widgets/base",
            "_view_module_version": "1.2.0",
            "_view_name": "StyleView",
            "bar_color": null,
            "description_width": ""
          }
        },
        "adf7c50a7ca94fb29efaf85e61559a75": {
          "model_module": "@jupyter-widgets/base",
          "model_name": "LayoutModel",
          "model_module_version": "1.2.0",
          "state": {
            "_model_module": "@jupyter-widgets/base",
            "_model_module_version": "1.2.0",
            "_model_name": "LayoutModel",
            "_view_count": null,
            "_view_module": "@jupyter-widgets/base",
            "_view_module_version": "1.2.0",
            "_view_name": "LayoutView",
            "align_content": null,
            "align_items": null,
            "align_self": null,
            "border": null,
            "bottom": null,
            "display": null,
            "flex": null,
            "flex_flow": null,
            "grid_area": null,
            "grid_auto_columns": null,
            "grid_auto_flow": null,
            "grid_auto_rows": null,
            "grid_column": null,
            "grid_gap": null,
            "grid_row": null,
            "grid_template_areas": null,
            "grid_template_columns": null,
            "grid_template_rows": null,
            "height": null,
            "justify_content": null,
            "justify_items": null,
            "left": null,
            "margin": null,
            "max_height": null,
            "max_width": null,
            "min_height": null,
            "min_width": null,
            "object_fit": null,
            "object_position": null,
            "order": null,
            "overflow": null,
            "overflow_x": null,
            "overflow_y": null,
            "padding": null,
            "right": null,
            "top": null,
            "visibility": null,
            "width": null
          }
        },
        "7b9d3537644145bdae99c7b2e9284519": {
          "model_module": "@jupyter-widgets/controls",
          "model_name": "DescriptionStyleModel",
          "model_module_version": "1.5.0",
          "state": {
            "_model_module": "@jupyter-widgets/controls",
            "_model_module_version": "1.5.0",
            "_model_name": "DescriptionStyleModel",
            "_view_count": null,
            "_view_module": "@jupyter-widgets/base",
            "_view_module_version": "1.2.0",
            "_view_name": "StyleView",
            "description_width": ""
          }
        },
        "335b3a24c2eb4367abab2fb453e95764": {
          "model_module": "@jupyter-widgets/controls",
          "model_name": "HBoxModel",
          "model_module_version": "1.5.0",
          "state": {
            "_dom_classes": [],
            "_model_module": "@jupyter-widgets/controls",
            "_model_module_version": "1.5.0",
            "_model_name": "HBoxModel",
            "_view_count": null,
            "_view_module": "@jupyter-widgets/controls",
            "_view_module_version": "1.5.0",
            "_view_name": "HBoxView",
            "box_style": "",
            "children": [
              "IPY_MODEL_6efbca7e9ae04d00b90838c6c9c83e6d",
              "IPY_MODEL_69e787e270d2470cb9279e9e39fe3fe3",
              "IPY_MODEL_5a90a8f57f2a4d4eaae67b6cb3cafcf6"
            ],
            "layout": "IPY_MODEL_b98e0ac65720421f8c41455b31bab918"
          }
        },
        "6efbca7e9ae04d00b90838c6c9c83e6d": {
          "model_module": "@jupyter-widgets/controls",
          "model_name": "HTMLModel",
          "model_module_version": "1.5.0",
          "state": {
            "_dom_classes": [],
            "_model_module": "@jupyter-widgets/controls",
            "_model_module_version": "1.5.0",
            "_model_name": "HTMLModel",
            "_view_count": null,
            "_view_module": "@jupyter-widgets/controls",
            "_view_module_version": "1.5.0",
            "_view_name": "HTMLView",
            "description": "",
            "description_tooltip": null,
            "layout": "IPY_MODEL_09d5cc3aee9041d8aa4a746dd20ad2dc",
            "placeholder": "​",
            "style": "IPY_MODEL_10f471df6ed04b44afedd2aa5d53fa15",
            "value": "Downloading (…)&quot;pytorch_model.bin&quot;;: 100%"
          }
        },
        "69e787e270d2470cb9279e9e39fe3fe3": {
          "model_module": "@jupyter-widgets/controls",
          "model_name": "FloatProgressModel",
          "model_module_version": "1.5.0",
          "state": {
            "_dom_classes": [],
            "_model_module": "@jupyter-widgets/controls",
            "_model_module_version": "1.5.0",
            "_model_name": "FloatProgressModel",
            "_view_count": null,
            "_view_module": "@jupyter-widgets/controls",
            "_view_module_version": "1.5.0",
            "_view_name": "ProgressView",
            "bar_style": "success",
            "description": "",
            "description_tooltip": null,
            "layout": "IPY_MODEL_f22d2b0804c043c183471596fc5f7553",
            "max": 451741507,
            "min": 0,
            "orientation": "horizontal",
            "style": "IPY_MODEL_3eba54f5d1f74524ac46f4f523317a1f",
            "value": 451741507
          }
        },
        "5a90a8f57f2a4d4eaae67b6cb3cafcf6": {
          "model_module": "@jupyter-widgets/controls",
          "model_name": "HTMLModel",
          "model_module_version": "1.5.0",
          "state": {
            "_dom_classes": [],
            "_model_module": "@jupyter-widgets/controls",
            "_model_module_version": "1.5.0",
            "_model_name": "HTMLModel",
            "_view_count": null,
            "_view_module": "@jupyter-widgets/controls",
            "_view_module_version": "1.5.0",
            "_view_name": "HTMLView",
            "description": "",
            "description_tooltip": null,
            "layout": "IPY_MODEL_cd7dd690054342f7a555599e497d23aa",
            "placeholder": "​",
            "style": "IPY_MODEL_7130b71f500d42aea131eb8f217cc609",
            "value": " 452M/452M [00:08&lt;00:00, 67.1MB/s]"
          }
        },
        "b98e0ac65720421f8c41455b31bab918": {
          "model_module": "@jupyter-widgets/base",
          "model_name": "LayoutModel",
          "model_module_version": "1.2.0",
          "state": {
            "_model_module": "@jupyter-widgets/base",
            "_model_module_version": "1.2.0",
            "_model_name": "LayoutModel",
            "_view_count": null,
            "_view_module": "@jupyter-widgets/base",
            "_view_module_version": "1.2.0",
            "_view_name": "LayoutView",
            "align_content": null,
            "align_items": null,
            "align_self": null,
            "border": null,
            "bottom": null,
            "display": null,
            "flex": null,
            "flex_flow": null,
            "grid_area": null,
            "grid_auto_columns": null,
            "grid_auto_flow": null,
            "grid_auto_rows": null,
            "grid_column": null,
            "grid_gap": null,
            "grid_row": null,
            "grid_template_areas": null,
            "grid_template_columns": null,
            "grid_template_rows": null,
            "height": null,
            "justify_content": null,
            "justify_items": null,
            "left": null,
            "margin": null,
            "max_height": null,
            "max_width": null,
            "min_height": null,
            "min_width": null,
            "object_fit": null,
            "object_position": null,
            "order": null,
            "overflow": null,
            "overflow_x": null,
            "overflow_y": null,
            "padding": null,
            "right": null,
            "top": null,
            "visibility": null,
            "width": null
          }
        },
        "09d5cc3aee9041d8aa4a746dd20ad2dc": {
          "model_module": "@jupyter-widgets/base",
          "model_name": "LayoutModel",
          "model_module_version": "1.2.0",
          "state": {
            "_model_module": "@jupyter-widgets/base",
            "_model_module_version": "1.2.0",
            "_model_name": "LayoutModel",
            "_view_count": null,
            "_view_module": "@jupyter-widgets/base",
            "_view_module_version": "1.2.0",
            "_view_name": "LayoutView",
            "align_content": null,
            "align_items": null,
            "align_self": null,
            "border": null,
            "bottom": null,
            "display": null,
            "flex": null,
            "flex_flow": null,
            "grid_area": null,
            "grid_auto_columns": null,
            "grid_auto_flow": null,
            "grid_auto_rows": null,
            "grid_column": null,
            "grid_gap": null,
            "grid_row": null,
            "grid_template_areas": null,
            "grid_template_columns": null,
            "grid_template_rows": null,
            "height": null,
            "justify_content": null,
            "justify_items": null,
            "left": null,
            "margin": null,
            "max_height": null,
            "max_width": null,
            "min_height": null,
            "min_width": null,
            "object_fit": null,
            "object_position": null,
            "order": null,
            "overflow": null,
            "overflow_x": null,
            "overflow_y": null,
            "padding": null,
            "right": null,
            "top": null,
            "visibility": null,
            "width": null
          }
        },
        "10f471df6ed04b44afedd2aa5d53fa15": {
          "model_module": "@jupyter-widgets/controls",
          "model_name": "DescriptionStyleModel",
          "model_module_version": "1.5.0",
          "state": {
            "_model_module": "@jupyter-widgets/controls",
            "_model_module_version": "1.5.0",
            "_model_name": "DescriptionStyleModel",
            "_view_count": null,
            "_view_module": "@jupyter-widgets/base",
            "_view_module_version": "1.2.0",
            "_view_name": "StyleView",
            "description_width": ""
          }
        },
        "f22d2b0804c043c183471596fc5f7553": {
          "model_module": "@jupyter-widgets/base",
          "model_name": "LayoutModel",
          "model_module_version": "1.2.0",
          "state": {
            "_model_module": "@jupyter-widgets/base",
            "_model_module_version": "1.2.0",
            "_model_name": "LayoutModel",
            "_view_count": null,
            "_view_module": "@jupyter-widgets/base",
            "_view_module_version": "1.2.0",
            "_view_name": "LayoutView",
            "align_content": null,
            "align_items": null,
            "align_self": null,
            "border": null,
            "bottom": null,
            "display": null,
            "flex": null,
            "flex_flow": null,
            "grid_area": null,
            "grid_auto_columns": null,
            "grid_auto_flow": null,
            "grid_auto_rows": null,
            "grid_column": null,
            "grid_gap": null,
            "grid_row": null,
            "grid_template_areas": null,
            "grid_template_columns": null,
            "grid_template_rows": null,
            "height": null,
            "justify_content": null,
            "justify_items": null,
            "left": null,
            "margin": null,
            "max_height": null,
            "max_width": null,
            "min_height": null,
            "min_width": null,
            "object_fit": null,
            "object_position": null,
            "order": null,
            "overflow": null,
            "overflow_x": null,
            "overflow_y": null,
            "padding": null,
            "right": null,
            "top": null,
            "visibility": null,
            "width": null
          }
        },
        "3eba54f5d1f74524ac46f4f523317a1f": {
          "model_module": "@jupyter-widgets/controls",
          "model_name": "ProgressStyleModel",
          "model_module_version": "1.5.0",
          "state": {
            "_model_module": "@jupyter-widgets/controls",
            "_model_module_version": "1.5.0",
            "_model_name": "ProgressStyleModel",
            "_view_count": null,
            "_view_module": "@jupyter-widgets/base",
            "_view_module_version": "1.2.0",
            "_view_name": "StyleView",
            "bar_color": null,
            "description_width": ""
          }
        },
        "cd7dd690054342f7a555599e497d23aa": {
          "model_module": "@jupyter-widgets/base",
          "model_name": "LayoutModel",
          "model_module_version": "1.2.0",
          "state": {
            "_model_module": "@jupyter-widgets/base",
            "_model_module_version": "1.2.0",
            "_model_name": "LayoutModel",
            "_view_count": null,
            "_view_module": "@jupyter-widgets/base",
            "_view_module_version": "1.2.0",
            "_view_name": "LayoutView",
            "align_content": null,
            "align_items": null,
            "align_self": null,
            "border": null,
            "bottom": null,
            "display": null,
            "flex": null,
            "flex_flow": null,
            "grid_area": null,
            "grid_auto_columns": null,
            "grid_auto_flow": null,
            "grid_auto_rows": null,
            "grid_column": null,
            "grid_gap": null,
            "grid_row": null,
            "grid_template_areas": null,
            "grid_template_columns": null,
            "grid_template_rows": null,
            "height": null,
            "justify_content": null,
            "justify_items": null,
            "left": null,
            "margin": null,
            "max_height": null,
            "max_width": null,
            "min_height": null,
            "min_width": null,
            "object_fit": null,
            "object_position": null,
            "order": null,
            "overflow": null,
            "overflow_x": null,
            "overflow_y": null,
            "padding": null,
            "right": null,
            "top": null,
            "visibility": null,
            "width": null
          }
        },
        "7130b71f500d42aea131eb8f217cc609": {
          "model_module": "@jupyter-widgets/controls",
          "model_name": "DescriptionStyleModel",
          "model_module_version": "1.5.0",
          "state": {
            "_model_module": "@jupyter-widgets/controls",
            "_model_module_version": "1.5.0",
            "_model_name": "DescriptionStyleModel",
            "_view_count": null,
            "_view_module": "@jupyter-widgets/base",
            "_view_module_version": "1.2.0",
            "_view_name": "StyleView",
            "description_width": ""
          }
        },
        "b61043da36264971b8b0b9064bf4dc96": {
          "model_module": "@jupyter-widgets/controls",
          "model_name": "HBoxModel",
          "model_module_version": "1.5.0",
          "state": {
            "_dom_classes": [],
            "_model_module": "@jupyter-widgets/controls",
            "_model_module_version": "1.5.0",
            "_model_name": "HBoxModel",
            "_view_count": null,
            "_view_module": "@jupyter-widgets/controls",
            "_view_module_version": "1.5.0",
            "_view_name": "HBoxView",
            "box_style": "",
            "children": [
              "IPY_MODEL_10c72cab61624d048972e90370b220d8",
              "IPY_MODEL_fd0f10481fbc42318af235e2c73a9e80",
              "IPY_MODEL_e6832e08160d46fb82d5fee86dcc5b8b"
            ],
            "layout": "IPY_MODEL_e3cb75ed177d4229818da20d890e88d2"
          }
        },
        "10c72cab61624d048972e90370b220d8": {
          "model_module": "@jupyter-widgets/controls",
          "model_name": "HTMLModel",
          "model_module_version": "1.5.0",
          "state": {
            "_dom_classes": [],
            "_model_module": "@jupyter-widgets/controls",
            "_model_module_version": "1.5.0",
            "_model_name": "HTMLModel",
            "_view_count": null,
            "_view_module": "@jupyter-widgets/controls",
            "_view_module_version": "1.5.0",
            "_view_name": "HTMLView",
            "description": "",
            "description_tooltip": null,
            "layout": "IPY_MODEL_caeb0308c1d24283b9f3a08e1f0f9285",
            "placeholder": "​",
            "style": "IPY_MODEL_8c6defb56a99445a8028224c6a1b8e5d",
            "value": "Downloading (…)solve/main/vocab.txt: 100%"
          }
        },
        "fd0f10481fbc42318af235e2c73a9e80": {
          "model_module": "@jupyter-widgets/controls",
          "model_name": "FloatProgressModel",
          "model_module_version": "1.5.0",
          "state": {
            "_dom_classes": [],
            "_model_module": "@jupyter-widgets/controls",
            "_model_module_version": "1.5.0",
            "_model_name": "FloatProgressModel",
            "_view_count": null,
            "_view_module": "@jupyter-widgets/controls",
            "_view_module_version": "1.5.0",
            "_view_name": "ProgressView",
            "bar_style": "success",
            "description": "",
            "description_tooltip": null,
            "layout": "IPY_MODEL_c0a97850148e497dab6b902e08c724f5",
            "max": 263326,
            "min": 0,
            "orientation": "horizontal",
            "style": "IPY_MODEL_5c29a1719d5e4d0d9b16333d29a8639d",
            "value": 263326
          }
        },
        "e6832e08160d46fb82d5fee86dcc5b8b": {
          "model_module": "@jupyter-widgets/controls",
          "model_name": "HTMLModel",
          "model_module_version": "1.5.0",
          "state": {
            "_dom_classes": [],
            "_model_module": "@jupyter-widgets/controls",
            "_model_module_version": "1.5.0",
            "_model_name": "HTMLModel",
            "_view_count": null,
            "_view_module": "@jupyter-widgets/controls",
            "_view_module_version": "1.5.0",
            "_view_name": "HTMLView",
            "description": "",
            "description_tooltip": null,
            "layout": "IPY_MODEL_4ef613cdf5d447f785869dee356fecc6",
            "placeholder": "​",
            "style": "IPY_MODEL_229dff248cd2405484788d396f8c39e9",
            "value": " 263k/263k [00:00&lt;00:00, 2.52MB/s]"
          }
        },
        "e3cb75ed177d4229818da20d890e88d2": {
          "model_module": "@jupyter-widgets/base",
          "model_name": "LayoutModel",
          "model_module_version": "1.2.0",
          "state": {
            "_model_module": "@jupyter-widgets/base",
            "_model_module_version": "1.2.0",
            "_model_name": "LayoutModel",
            "_view_count": null,
            "_view_module": "@jupyter-widgets/base",
            "_view_module_version": "1.2.0",
            "_view_name": "LayoutView",
            "align_content": null,
            "align_items": null,
            "align_self": null,
            "border": null,
            "bottom": null,
            "display": null,
            "flex": null,
            "flex_flow": null,
            "grid_area": null,
            "grid_auto_columns": null,
            "grid_auto_flow": null,
            "grid_auto_rows": null,
            "grid_column": null,
            "grid_gap": null,
            "grid_row": null,
            "grid_template_areas": null,
            "grid_template_columns": null,
            "grid_template_rows": null,
            "height": null,
            "justify_content": null,
            "justify_items": null,
            "left": null,
            "margin": null,
            "max_height": null,
            "max_width": null,
            "min_height": null,
            "min_width": null,
            "object_fit": null,
            "object_position": null,
            "order": null,
            "overflow": null,
            "overflow_x": null,
            "overflow_y": null,
            "padding": null,
            "right": null,
            "top": null,
            "visibility": null,
            "width": null
          }
        },
        "caeb0308c1d24283b9f3a08e1f0f9285": {
          "model_module": "@jupyter-widgets/base",
          "model_name": "LayoutModel",
          "model_module_version": "1.2.0",
          "state": {
            "_model_module": "@jupyter-widgets/base",
            "_model_module_version": "1.2.0",
            "_model_name": "LayoutModel",
            "_view_count": null,
            "_view_module": "@jupyter-widgets/base",
            "_view_module_version": "1.2.0",
            "_view_name": "LayoutView",
            "align_content": null,
            "align_items": null,
            "align_self": null,
            "border": null,
            "bottom": null,
            "display": null,
            "flex": null,
            "flex_flow": null,
            "grid_area": null,
            "grid_auto_columns": null,
            "grid_auto_flow": null,
            "grid_auto_rows": null,
            "grid_column": null,
            "grid_gap": null,
            "grid_row": null,
            "grid_template_areas": null,
            "grid_template_columns": null,
            "grid_template_rows": null,
            "height": null,
            "justify_content": null,
            "justify_items": null,
            "left": null,
            "margin": null,
            "max_height": null,
            "max_width": null,
            "min_height": null,
            "min_width": null,
            "object_fit": null,
            "object_position": null,
            "order": null,
            "overflow": null,
            "overflow_x": null,
            "overflow_y": null,
            "padding": null,
            "right": null,
            "top": null,
            "visibility": null,
            "width": null
          }
        },
        "8c6defb56a99445a8028224c6a1b8e5d": {
          "model_module": "@jupyter-widgets/controls",
          "model_name": "DescriptionStyleModel",
          "model_module_version": "1.5.0",
          "state": {
            "_model_module": "@jupyter-widgets/controls",
            "_model_module_version": "1.5.0",
            "_model_name": "DescriptionStyleModel",
            "_view_count": null,
            "_view_module": "@jupyter-widgets/base",
            "_view_module_version": "1.2.0",
            "_view_name": "StyleView",
            "description_width": ""
          }
        },
        "c0a97850148e497dab6b902e08c724f5": {
          "model_module": "@jupyter-widgets/base",
          "model_name": "LayoutModel",
          "model_module_version": "1.2.0",
          "state": {
            "_model_module": "@jupyter-widgets/base",
            "_model_module_version": "1.2.0",
            "_model_name": "LayoutModel",
            "_view_count": null,
            "_view_module": "@jupyter-widgets/base",
            "_view_module_version": "1.2.0",
            "_view_name": "LayoutView",
            "align_content": null,
            "align_items": null,
            "align_self": null,
            "border": null,
            "bottom": null,
            "display": null,
            "flex": null,
            "flex_flow": null,
            "grid_area": null,
            "grid_auto_columns": null,
            "grid_auto_flow": null,
            "grid_auto_rows": null,
            "grid_column": null,
            "grid_gap": null,
            "grid_row": null,
            "grid_template_areas": null,
            "grid_template_columns": null,
            "grid_template_rows": null,
            "height": null,
            "justify_content": null,
            "justify_items": null,
            "left": null,
            "margin": null,
            "max_height": null,
            "max_width": null,
            "min_height": null,
            "min_width": null,
            "object_fit": null,
            "object_position": null,
            "order": null,
            "overflow": null,
            "overflow_x": null,
            "overflow_y": null,
            "padding": null,
            "right": null,
            "top": null,
            "visibility": null,
            "width": null
          }
        },
        "5c29a1719d5e4d0d9b16333d29a8639d": {
          "model_module": "@jupyter-widgets/controls",
          "model_name": "ProgressStyleModel",
          "model_module_version": "1.5.0",
          "state": {
            "_model_module": "@jupyter-widgets/controls",
            "_model_module_version": "1.5.0",
            "_model_name": "ProgressStyleModel",
            "_view_count": null,
            "_view_module": "@jupyter-widgets/base",
            "_view_module_version": "1.2.0",
            "_view_name": "StyleView",
            "bar_color": null,
            "description_width": ""
          }
        },
        "4ef613cdf5d447f785869dee356fecc6": {
          "model_module": "@jupyter-widgets/base",
          "model_name": "LayoutModel",
          "model_module_version": "1.2.0",
          "state": {
            "_model_module": "@jupyter-widgets/base",
            "_model_module_version": "1.2.0",
            "_model_name": "LayoutModel",
            "_view_count": null,
            "_view_module": "@jupyter-widgets/base",
            "_view_module_version": "1.2.0",
            "_view_name": "LayoutView",
            "align_content": null,
            "align_items": null,
            "align_self": null,
            "border": null,
            "bottom": null,
            "display": null,
            "flex": null,
            "flex_flow": null,
            "grid_area": null,
            "grid_auto_columns": null,
            "grid_auto_flow": null,
            "grid_auto_rows": null,
            "grid_column": null,
            "grid_gap": null,
            "grid_row": null,
            "grid_template_areas": null,
            "grid_template_columns": null,
            "grid_template_rows": null,
            "height": null,
            "justify_content": null,
            "justify_items": null,
            "left": null,
            "margin": null,
            "max_height": null,
            "max_width": null,
            "min_height": null,
            "min_width": null,
            "object_fit": null,
            "object_position": null,
            "order": null,
            "overflow": null,
            "overflow_x": null,
            "overflow_y": null,
            "padding": null,
            "right": null,
            "top": null,
            "visibility": null,
            "width": null
          }
        },
        "229dff248cd2405484788d396f8c39e9": {
          "model_module": "@jupyter-widgets/controls",
          "model_name": "DescriptionStyleModel",
          "model_module_version": "1.5.0",
          "state": {
            "_model_module": "@jupyter-widgets/controls",
            "_model_module_version": "1.5.0",
            "_model_name": "DescriptionStyleModel",
            "_view_count": null,
            "_view_module": "@jupyter-widgets/base",
            "_view_module_version": "1.2.0",
            "_view_name": "StyleView",
            "description_width": ""
          }
        },
        "2e1fe4a27a7041eeb642ec6f02078fb9": {
          "model_module": "@jupyter-widgets/controls",
          "model_name": "HBoxModel",
          "model_module_version": "1.5.0",
          "state": {
            "_dom_classes": [],
            "_model_module": "@jupyter-widgets/controls",
            "_model_module_version": "1.5.0",
            "_model_name": "HBoxModel",
            "_view_count": null,
            "_view_module": "@jupyter-widgets/controls",
            "_view_module_version": "1.5.0",
            "_view_name": "HBoxView",
            "box_style": "",
            "children": [
              "IPY_MODEL_ae28604070e5422d830f40ba8e87db4b",
              "IPY_MODEL_6eacfa9424e2419f97be2cf3e0f28407",
              "IPY_MODEL_c69720f53bf54eb59f1208217a24bf96"
            ],
            "layout": "IPY_MODEL_e61bd1c254a34e06ae970e284d10904a"
          }
        },
        "ae28604070e5422d830f40ba8e87db4b": {
          "model_module": "@jupyter-widgets/controls",
          "model_name": "HTMLModel",
          "model_module_version": "1.5.0",
          "state": {
            "_dom_classes": [],
            "_model_module": "@jupyter-widgets/controls",
            "_model_module_version": "1.5.0",
            "_model_name": "HTMLModel",
            "_view_count": null,
            "_view_module": "@jupyter-widgets/controls",
            "_view_module_version": "1.5.0",
            "_view_name": "HTMLView",
            "description": "",
            "description_tooltip": null,
            "layout": "IPY_MODEL_79cd4015d820431aaee11feb12dfe741",
            "placeholder": "​",
            "style": "IPY_MODEL_e07752ca964b44b596f0ef2e89efb38f",
            "value": "Downloading (…)okenizer_config.json: 100%"
          }
        },
        "6eacfa9424e2419f97be2cf3e0f28407": {
          "model_module": "@jupyter-widgets/controls",
          "model_name": "FloatProgressModel",
          "model_module_version": "1.5.0",
          "state": {
            "_dom_classes": [],
            "_model_module": "@jupyter-widgets/controls",
            "_model_module_version": "1.5.0",
            "_model_name": "FloatProgressModel",
            "_view_count": null,
            "_view_module": "@jupyter-widgets/controls",
            "_view_module_version": "1.5.0",
            "_view_name": "ProgressView",
            "bar_style": "success",
            "description": "",
            "description_tooltip": null,
            "layout": "IPY_MODEL_8eae4aa21b8d435683a04378184c6b54",
            "max": 61,
            "min": 0,
            "orientation": "horizontal",
            "style": "IPY_MODEL_bec989d6096249b0baa3bf7db466e5c8",
            "value": 61
          }
        },
        "c69720f53bf54eb59f1208217a24bf96": {
          "model_module": "@jupyter-widgets/controls",
          "model_name": "HTMLModel",
          "model_module_version": "1.5.0",
          "state": {
            "_dom_classes": [],
            "_model_module": "@jupyter-widgets/controls",
            "_model_module_version": "1.5.0",
            "_model_name": "HTMLModel",
            "_view_count": null,
            "_view_module": "@jupyter-widgets/controls",
            "_view_module_version": "1.5.0",
            "_view_name": "HTMLView",
            "description": "",
            "description_tooltip": null,
            "layout": "IPY_MODEL_2e4b9a78d7c0460383eb350235921eed",
            "placeholder": "​",
            "style": "IPY_MODEL_02fe45097aed4931ba3d0743effadb4c",
            "value": " 61.0/61.0 [00:00&lt;00:00, 2.12kB/s]"
          }
        },
        "e61bd1c254a34e06ae970e284d10904a": {
          "model_module": "@jupyter-widgets/base",
          "model_name": "LayoutModel",
          "model_module_version": "1.2.0",
          "state": {
            "_model_module": "@jupyter-widgets/base",
            "_model_module_version": "1.2.0",
            "_model_name": "LayoutModel",
            "_view_count": null,
            "_view_module": "@jupyter-widgets/base",
            "_view_module_version": "1.2.0",
            "_view_name": "LayoutView",
            "align_content": null,
            "align_items": null,
            "align_self": null,
            "border": null,
            "bottom": null,
            "display": null,
            "flex": null,
            "flex_flow": null,
            "grid_area": null,
            "grid_auto_columns": null,
            "grid_auto_flow": null,
            "grid_auto_rows": null,
            "grid_column": null,
            "grid_gap": null,
            "grid_row": null,
            "grid_template_areas": null,
            "grid_template_columns": null,
            "grid_template_rows": null,
            "height": null,
            "justify_content": null,
            "justify_items": null,
            "left": null,
            "margin": null,
            "max_height": null,
            "max_width": null,
            "min_height": null,
            "min_width": null,
            "object_fit": null,
            "object_position": null,
            "order": null,
            "overflow": null,
            "overflow_x": null,
            "overflow_y": null,
            "padding": null,
            "right": null,
            "top": null,
            "visibility": null,
            "width": null
          }
        },
        "79cd4015d820431aaee11feb12dfe741": {
          "model_module": "@jupyter-widgets/base",
          "model_name": "LayoutModel",
          "model_module_version": "1.2.0",
          "state": {
            "_model_module": "@jupyter-widgets/base",
            "_model_module_version": "1.2.0",
            "_model_name": "LayoutModel",
            "_view_count": null,
            "_view_module": "@jupyter-widgets/base",
            "_view_module_version": "1.2.0",
            "_view_name": "LayoutView",
            "align_content": null,
            "align_items": null,
            "align_self": null,
            "border": null,
            "bottom": null,
            "display": null,
            "flex": null,
            "flex_flow": null,
            "grid_area": null,
            "grid_auto_columns": null,
            "grid_auto_flow": null,
            "grid_auto_rows": null,
            "grid_column": null,
            "grid_gap": null,
            "grid_row": null,
            "grid_template_areas": null,
            "grid_template_columns": null,
            "grid_template_rows": null,
            "height": null,
            "justify_content": null,
            "justify_items": null,
            "left": null,
            "margin": null,
            "max_height": null,
            "max_width": null,
            "min_height": null,
            "min_width": null,
            "object_fit": null,
            "object_position": null,
            "order": null,
            "overflow": null,
            "overflow_x": null,
            "overflow_y": null,
            "padding": null,
            "right": null,
            "top": null,
            "visibility": null,
            "width": null
          }
        },
        "e07752ca964b44b596f0ef2e89efb38f": {
          "model_module": "@jupyter-widgets/controls",
          "model_name": "DescriptionStyleModel",
          "model_module_version": "1.5.0",
          "state": {
            "_model_module": "@jupyter-widgets/controls",
            "_model_module_version": "1.5.0",
            "_model_name": "DescriptionStyleModel",
            "_view_count": null,
            "_view_module": "@jupyter-widgets/base",
            "_view_module_version": "1.2.0",
            "_view_name": "StyleView",
            "description_width": ""
          }
        },
        "8eae4aa21b8d435683a04378184c6b54": {
          "model_module": "@jupyter-widgets/base",
          "model_name": "LayoutModel",
          "model_module_version": "1.2.0",
          "state": {
            "_model_module": "@jupyter-widgets/base",
            "_model_module_version": "1.2.0",
            "_model_name": "LayoutModel",
            "_view_count": null,
            "_view_module": "@jupyter-widgets/base",
            "_view_module_version": "1.2.0",
            "_view_name": "LayoutView",
            "align_content": null,
            "align_items": null,
            "align_self": null,
            "border": null,
            "bottom": null,
            "display": null,
            "flex": null,
            "flex_flow": null,
            "grid_area": null,
            "grid_auto_columns": null,
            "grid_auto_flow": null,
            "grid_auto_rows": null,
            "grid_column": null,
            "grid_gap": null,
            "grid_row": null,
            "grid_template_areas": null,
            "grid_template_columns": null,
            "grid_template_rows": null,
            "height": null,
            "justify_content": null,
            "justify_items": null,
            "left": null,
            "margin": null,
            "max_height": null,
            "max_width": null,
            "min_height": null,
            "min_width": null,
            "object_fit": null,
            "object_position": null,
            "order": null,
            "overflow": null,
            "overflow_x": null,
            "overflow_y": null,
            "padding": null,
            "right": null,
            "top": null,
            "visibility": null,
            "width": null
          }
        },
        "bec989d6096249b0baa3bf7db466e5c8": {
          "model_module": "@jupyter-widgets/controls",
          "model_name": "ProgressStyleModel",
          "model_module_version": "1.5.0",
          "state": {
            "_model_module": "@jupyter-widgets/controls",
            "_model_module_version": "1.5.0",
            "_model_name": "ProgressStyleModel",
            "_view_count": null,
            "_view_module": "@jupyter-widgets/base",
            "_view_module_version": "1.2.0",
            "_view_name": "StyleView",
            "bar_color": null,
            "description_width": ""
          }
        },
        "2e4b9a78d7c0460383eb350235921eed": {
          "model_module": "@jupyter-widgets/base",
          "model_name": "LayoutModel",
          "model_module_version": "1.2.0",
          "state": {
            "_model_module": "@jupyter-widgets/base",
            "_model_module_version": "1.2.0",
            "_model_name": "LayoutModel",
            "_view_count": null,
            "_view_module": "@jupyter-widgets/base",
            "_view_module_version": "1.2.0",
            "_view_name": "LayoutView",
            "align_content": null,
            "align_items": null,
            "align_self": null,
            "border": null,
            "bottom": null,
            "display": null,
            "flex": null,
            "flex_flow": null,
            "grid_area": null,
            "grid_auto_columns": null,
            "grid_auto_flow": null,
            "grid_auto_rows": null,
            "grid_column": null,
            "grid_gap": null,
            "grid_row": null,
            "grid_template_areas": null,
            "grid_template_columns": null,
            "grid_template_rows": null,
            "height": null,
            "justify_content": null,
            "justify_items": null,
            "left": null,
            "margin": null,
            "max_height": null,
            "max_width": null,
            "min_height": null,
            "min_width": null,
            "object_fit": null,
            "object_position": null,
            "order": null,
            "overflow": null,
            "overflow_x": null,
            "overflow_y": null,
            "padding": null,
            "right": null,
            "top": null,
            "visibility": null,
            "width": null
          }
        },
        "02fe45097aed4931ba3d0743effadb4c": {
          "model_module": "@jupyter-widgets/controls",
          "model_name": "DescriptionStyleModel",
          "model_module_version": "1.5.0",
          "state": {
            "_model_module": "@jupyter-widgets/controls",
            "_model_module_version": "1.5.0",
            "_model_name": "DescriptionStyleModel",
            "_view_count": null,
            "_view_module": "@jupyter-widgets/base",
            "_view_module_version": "1.2.0",
            "_view_name": "StyleView",
            "description_width": ""
          }
        }
      }
    }
  },
  "cells": [
    {
      "cell_type": "markdown",
      "metadata": {
        "id": "view-in-github",
        "colab_type": "text"
      },
      "source": [
        "<a href=\"https://colab.research.google.com/github/jx-dohwan/KoELECTRA_MRC/blob/main/KoELECTRA_MRC.ipynb\" target=\"_parent\"><img src=\"https://colab.research.google.com/assets/colab-badge.svg\" alt=\"Open In Colab\"/></a>"
      ]
    },
    {
      "cell_type": "markdown",
      "source": [
        "## Setting"
      ],
      "metadata": {
        "id": "jqdlggDZYkFP"
      }
    },
    {
      "cell_type": "code",
      "source": [
        "!pip3 install transformers"
      ],
      "metadata": {
        "colab": {
          "base_uri": "https://localhost:8080/"
        },
        "id": "ZDCxWFwCXeDO",
        "outputId": "178b5586-6d72-4377-d0f6-5bf0017c603b"
      },
      "execution_count": 1,
      "outputs": [
        {
          "output_type": "stream",
          "name": "stdout",
          "text": [
            "Looking in indexes: https://pypi.org/simple, https://us-python.pkg.dev/colab-wheels/public/simple/\n",
            "Collecting transformers\n",
            "  Downloading transformers-4.26.1-py3-none-any.whl (6.3 MB)\n",
            "\u001b[2K     \u001b[90m━━━━━━━━━━━━━━━━━━━━━━━━━━━━━━━━━━━━━━━━\u001b[0m \u001b[32m6.3/6.3 MB\u001b[0m \u001b[31m36.7 MB/s\u001b[0m eta \u001b[36m0:00:00\u001b[0m\n",
            "\u001b[?25hRequirement already satisfied: numpy>=1.17 in /usr/local/lib/python3.8/dist-packages (from transformers) (1.21.6)\n",
            "Requirement already satisfied: pyyaml>=5.1 in /usr/local/lib/python3.8/dist-packages (from transformers) (6.0)\n",
            "Collecting huggingface-hub<1.0,>=0.11.0\n",
            "  Downloading huggingface_hub-0.12.1-py3-none-any.whl (190 kB)\n",
            "\u001b[2K     \u001b[90m━━━━━━━━━━━━━━━━━━━━━━━━━━━━━━━━━━━━━━\u001b[0m \u001b[32m190.3/190.3 KB\u001b[0m \u001b[31m12.4 MB/s\u001b[0m eta \u001b[36m0:00:00\u001b[0m\n",
            "\u001b[?25hRequirement already satisfied: requests in /usr/local/lib/python3.8/dist-packages (from transformers) (2.25.1)\n",
            "Requirement already satisfied: filelock in /usr/local/lib/python3.8/dist-packages (from transformers) (3.9.0)\n",
            "Collecting tokenizers!=0.11.3,<0.14,>=0.11.1\n",
            "  Downloading tokenizers-0.13.2-cp38-cp38-manylinux_2_17_x86_64.manylinux2014_x86_64.whl (7.6 MB)\n",
            "\u001b[2K     \u001b[90m━━━━━━━━━━━━━━━━━━━━━━━━━━━━━━━━━━━━━━━━\u001b[0m \u001b[32m7.6/7.6 MB\u001b[0m \u001b[31m55.3 MB/s\u001b[0m eta \u001b[36m0:00:00\u001b[0m\n",
            "\u001b[?25hRequirement already satisfied: packaging>=20.0 in /usr/local/lib/python3.8/dist-packages (from transformers) (23.0)\n",
            "Requirement already satisfied: regex!=2019.12.17 in /usr/local/lib/python3.8/dist-packages (from transformers) (2022.6.2)\n",
            "Requirement already satisfied: tqdm>=4.27 in /usr/local/lib/python3.8/dist-packages (from transformers) (4.64.1)\n",
            "Requirement already satisfied: typing-extensions>=3.7.4.3 in /usr/local/lib/python3.8/dist-packages (from huggingface-hub<1.0,>=0.11.0->transformers) (4.5.0)\n",
            "Requirement already satisfied: certifi>=2017.4.17 in /usr/local/lib/python3.8/dist-packages (from requests->transformers) (2022.12.7)\n",
            "Requirement already satisfied: chardet<5,>=3.0.2 in /usr/local/lib/python3.8/dist-packages (from requests->transformers) (4.0.0)\n",
            "Requirement already satisfied: urllib3<1.27,>=1.21.1 in /usr/local/lib/python3.8/dist-packages (from requests->transformers) (1.24.3)\n",
            "Requirement already satisfied: idna<3,>=2.5 in /usr/local/lib/python3.8/dist-packages (from requests->transformers) (2.10)\n",
            "Installing collected packages: tokenizers, huggingface-hub, transformers\n",
            "Successfully installed huggingface-hub-0.12.1 tokenizers-0.13.2 transformers-4.26.1\n"
          ]
        }
      ]
    },
    {
      "cell_type": "code",
      "source": [
        "import os\n",
        "import json\n",
        "import numpy \n",
        "import matplotlib.pyplot as plt"
      ],
      "metadata": {
        "id": "nvSaDvusXeki"
      },
      "execution_count": 2,
      "outputs": []
    },
    {
      "cell_type": "code",
      "source": [
        "import argparse\n",
        "import glob\n",
        "import logging\n",
        "import os\n",
        "import random\n",
        "import timeit\n",
        "\n",
        "import numpy as np\n",
        "import torch\n",
        "from torch.utils.data import DataLoader, RandomSampler, SequentialSampler\n",
        "from torch.utils.data.distributed import DistributedSampler\n",
        "from tqdm import tqdm, trange\n",
        "\n",
        "import transformers\n",
        "from transformers import (\n",
        "    MODEL_FOR_QUESTION_ANSWERING_MAPPING,\n",
        "    WEIGHTS_NAME,\n",
        "    AdamW,\n",
        "    AutoConfig,\n",
        "    AutoModelForQuestionAnswering,\n",
        "    AutoTokenizer,\n",
        "    get_linear_schedule_with_warmup,\n",
        "    squad_convert_examples_to_features,\n",
        ")\n",
        "from transformers.data.metrics.squad_metrics import (\n",
        "    compute_predictions_log_probs,\n",
        "    compute_predictions_logits,\n",
        "    squad_evaluate,\n",
        ")\n",
        "from transformers.data.processors.squad import SquadResult, SquadV1Processor, SquadV2Processor\n",
        "from transformers.trainer_utils import is_main_process\n"
      ],
      "metadata": {
        "id": "bn9F3Hplpt87"
      },
      "execution_count": 13,
      "outputs": []
    },
    {
      "cell_type": "code",
      "source": [
        "from transformers import ElectraModel, ElectraTokenizer\n",
        "\n",
        "model = ElectraModel.from_pretrained(\"monologg/koelectra-base-v3-discriminator\")\n",
        "tokenizer = ElectraTokenizer.from_pretrained(\"monologg/koelectra-base-v3-discriminator\")"
      ],
      "metadata": {
        "colab": {
          "base_uri": "https://localhost:8080/",
          "height": 331,
          "referenced_widgets": [
            "b50219c8aa8b4d64b0ca04d905363667",
            "a6173c42be9046378e394443d1222e74",
            "569641f6043a4ccdbc8737ebdd30fe8e",
            "c94dff6f799f45169c91926e4c3ce42c",
            "93227b2b9eaf4e0fb480b9cd6c49f0d1",
            "b163c2a78d0e4fdbaa665e7ea0d329a8",
            "07bd0d3744ad47148d42919ee59a77e0",
            "bfb6613f0c574f4eb3165ad3fa24aa0c",
            "3ff9e28ee8754d37b175e58211aa78db",
            "adf7c50a7ca94fb29efaf85e61559a75",
            "7b9d3537644145bdae99c7b2e9284519",
            "335b3a24c2eb4367abab2fb453e95764",
            "6efbca7e9ae04d00b90838c6c9c83e6d",
            "69e787e270d2470cb9279e9e39fe3fe3",
            "5a90a8f57f2a4d4eaae67b6cb3cafcf6",
            "b98e0ac65720421f8c41455b31bab918",
            "09d5cc3aee9041d8aa4a746dd20ad2dc",
            "10f471df6ed04b44afedd2aa5d53fa15",
            "f22d2b0804c043c183471596fc5f7553",
            "3eba54f5d1f74524ac46f4f523317a1f",
            "cd7dd690054342f7a555599e497d23aa",
            "7130b71f500d42aea131eb8f217cc609",
            "b61043da36264971b8b0b9064bf4dc96",
            "10c72cab61624d048972e90370b220d8",
            "fd0f10481fbc42318af235e2c73a9e80",
            "e6832e08160d46fb82d5fee86dcc5b8b",
            "e3cb75ed177d4229818da20d890e88d2",
            "caeb0308c1d24283b9f3a08e1f0f9285",
            "8c6defb56a99445a8028224c6a1b8e5d",
            "c0a97850148e497dab6b902e08c724f5",
            "5c29a1719d5e4d0d9b16333d29a8639d",
            "4ef613cdf5d447f785869dee356fecc6",
            "229dff248cd2405484788d396f8c39e9",
            "2e1fe4a27a7041eeb642ec6f02078fb9",
            "ae28604070e5422d830f40ba8e87db4b",
            "6eacfa9424e2419f97be2cf3e0f28407",
            "c69720f53bf54eb59f1208217a24bf96",
            "e61bd1c254a34e06ae970e284d10904a",
            "79cd4015d820431aaee11feb12dfe741",
            "e07752ca964b44b596f0ef2e89efb38f",
            "8eae4aa21b8d435683a04378184c6b54",
            "bec989d6096249b0baa3bf7db466e5c8",
            "2e4b9a78d7c0460383eb350235921eed",
            "02fe45097aed4931ba3d0743effadb4c"
          ]
        },
        "id": "Oe3Vsq-HXwox",
        "outputId": "61296245-8a46-4021-c278-a390fe6fa802"
      },
      "execution_count": 3,
      "outputs": [
        {
          "output_type": "display_data",
          "data": {
            "text/plain": [
              "Downloading (…)lve/main/config.json:   0%|          | 0.00/467 [00:00<?, ?B/s]"
            ],
            "application/vnd.jupyter.widget-view+json": {
              "version_major": 2,
              "version_minor": 0,
              "model_id": "b50219c8aa8b4d64b0ca04d905363667"
            }
          },
          "metadata": {}
        },
        {
          "output_type": "display_data",
          "data": {
            "text/plain": [
              "Downloading (…)\"pytorch_model.bin\";:   0%|          | 0.00/452M [00:00<?, ?B/s]"
            ],
            "application/vnd.jupyter.widget-view+json": {
              "version_major": 2,
              "version_minor": 0,
              "model_id": "335b3a24c2eb4367abab2fb453e95764"
            }
          },
          "metadata": {}
        },
        {
          "output_type": "stream",
          "name": "stderr",
          "text": [
            "Some weights of the model checkpoint at monologg/koelectra-base-v3-discriminator were not used when initializing ElectraModel: ['discriminator_predictions.dense.bias', 'discriminator_predictions.dense_prediction.weight', 'discriminator_predictions.dense_prediction.bias', 'discriminator_predictions.dense.weight']\n",
            "- This IS expected if you are initializing ElectraModel from the checkpoint of a model trained on another task or with another architecture (e.g. initializing a BertForSequenceClassification model from a BertForPreTraining model).\n",
            "- This IS NOT expected if you are initializing ElectraModel from the checkpoint of a model that you expect to be exactly identical (initializing a BertForSequenceClassification model from a BertForSequenceClassification model).\n"
          ]
        },
        {
          "output_type": "display_data",
          "data": {
            "text/plain": [
              "Downloading (…)solve/main/vocab.txt:   0%|          | 0.00/263k [00:00<?, ?B/s]"
            ],
            "application/vnd.jupyter.widget-view+json": {
              "version_major": 2,
              "version_minor": 0,
              "model_id": "b61043da36264971b8b0b9064bf4dc96"
            }
          },
          "metadata": {}
        },
        {
          "output_type": "display_data",
          "data": {
            "text/plain": [
              "Downloading (…)okenizer_config.json:   0%|          | 0.00/61.0 [00:00<?, ?B/s]"
            ],
            "application/vnd.jupyter.widget-view+json": {
              "version_major": 2,
              "version_minor": 0,
              "model_id": "2e1fe4a27a7041eeb642ec6f02078fb9"
            }
          },
          "metadata": {}
        }
      ]
    },
    {
      "cell_type": "markdown",
      "source": [
        "## Data Preprocessing\n",
        "\n",
        "### 1. 원본 데이터 탐색\n",
        "- 데이터 다운로드\n",
        "  - KorQuAD 1.0 데이터 (https://korquad.github.io/KorQuad%201.0/) 에서 Training set, Dev set 다운로드 후 Google Drive에 업로드\n",
        "- 데이터 구성\n",
        "  - 1,560 개의 Wikipedia article에 대해 10,645 건의 문단과 66,181 개의 질의응답 쌍\n",
        "  - Training set 60,407 개, Dev set 5,774 개의 질의응답쌍"
      ],
      "metadata": {
        "id": "-4QGChZSYmBQ"
      }
    },
    {
      "cell_type": "code",
      "source": [
        "DATAPATH = \"/content/drive/MyDrive/인공지능/질의응답/data/korquad\"  \n",
        "filenames = [x for x in os.listdir (DATAPATH) if x.endswith('json')]\n",
        "filenames.sort()\n",
        "filenames"
      ],
      "metadata": {
        "colab": {
          "base_uri": "https://localhost:8080/"
        },
        "id": "BUW99i_IYMni",
        "outputId": "4f69ca3e-e32f-4264-c8d5-4dcc4e860bce"
      },
      "execution_count": 4,
      "outputs": [
        {
          "output_type": "execute_result",
          "data": {
            "text/plain": [
              "['KorQuAD_v1.0_dev.json', 'KorQuAD_v1.0_train.json']"
            ]
          },
          "metadata": {},
          "execution_count": 4
        }
      ]
    },
    {
      "cell_type": "code",
      "source": [
        "file = filenames[1]\n",
        "filelocation = os.path.join(DATAPATH, file)\n",
        "\n",
        "with open(filelocation, 'r') as json_file:\n",
        "  data = json.load(json_file)['data']"
      ],
      "metadata": {
        "id": "5tWQuKLJbpof"
      },
      "execution_count": 5,
      "outputs": []
    },
    {
      "cell_type": "code",
      "source": [
        "data[0]"
      ],
      "metadata": {
        "colab": {
          "base_uri": "https://localhost:8080/"
        },
        "id": "mYoO33LKb8lT",
        "outputId": "95d20f8e-bd4e-4d80-c2ef-fb1be7004481"
      },
      "execution_count": 6,
      "outputs": [
        {
          "output_type": "execute_result",
          "data": {
            "text/plain": [
              "{'paragraphs': [{'qas': [{'answers': [{'text': '교향곡', 'answer_start': 54}],\n",
              "     'id': '6566495-0-0',\n",
              "     'question': '바그너는 괴테의 파우스트를 읽고 무엇을 쓰고자 했는가?'},\n",
              "    {'answers': [{'text': '1악장', 'answer_start': 421}],\n",
              "     'id': '6566495-0-1',\n",
              "     'question': '바그너는 교향곡 작곡을 어디까지 쓴 뒤에 중단했는가?'},\n",
              "    {'answers': [{'text': '베토벤의 교향곡 9번', 'answer_start': 194}],\n",
              "     'id': '6566495-0-2',\n",
              "     'question': '바그너가 파우스트 서곡을 쓸 때 어떤 곡의 영향을 받았는가?'},\n",
              "    {'answers': [{'text': '파우스트', 'answer_start': 15}],\n",
              "     'id': '6566518-0-0',\n",
              "     'question': '1839년 바그너가 교향곡의 소재로 쓰려고 했던 책은?'},\n",
              "    {'answers': [{'text': '합창교향곡', 'answer_start': 354}],\n",
              "     'id': '6566518-0-1',\n",
              "     'question': '파우스트 서곡의 라단조 조성이 영향을 받은 베토벤의 곡은?'},\n",
              "    {'answers': [{'text': '1839', 'answer_start': 0}],\n",
              "     'id': '5917067-0-0',\n",
              "     'question': '바그너가 파우스트를 처음으로 읽은 년도는?'},\n",
              "    {'answers': [{'text': '파리', 'answer_start': 410}],\n",
              "     'id': '5917067-0-1',\n",
              "     'question': '바그너가 처음 교향곡 작곡을 한 장소는?'},\n",
              "    {'answers': [{'text': '드레스덴', 'answer_start': 534}],\n",
              "     'id': '5917067-0-2',\n",
              "     'question': '바그너의 1악장의 초연은 어디서 연주되었는가?'}],\n",
              "   'context': '1839년 바그너는 괴테의 파우스트을 처음 읽고 그 내용에 마음이 끌려 이를 소재로 해서 하나의 교향곡을 쓰려는 뜻을 갖는다. 이 시기 바그너는 1838년에 빛 독촉으로 산전수전을 다 걲은 상황이라 좌절과 실망에 가득했으며 메피스토펠레스를 만나는 파우스트의 심경에 공감했다고 한다. 또한 파리에서 아브네크의 지휘로 파리 음악원 관현악단이 연주하는 베토벤의 교향곡 9번을 듣고 깊은 감명을 받았는데, 이것이 이듬해 1월에 파우스트의 서곡으로 쓰여진 이 작품에 조금이라도 영향을 끼쳤으리라는 것은 의심할 여지가 없다. 여기의 라단조 조성의 경우에도 그의 전기에 적혀 있는 것처럼 단순한 정신적 피로나 실의가 반영된 것이 아니라 베토벤의 합창교향곡 조성의 영향을 받은 것을 볼 수 있다. 그렇게 교향곡 작곡을 1839년부터 40년에 걸쳐 파리에서 착수했으나 1악장을 쓴 뒤에 중단했다. 또한 작품의 완성과 동시에 그는 이 서곡(1악장)을 파리 음악원의 연주회에서 연주할 파트보까지 준비하였으나, 실제로는 이루어지지는 않았다. 결국 초연은 4년 반이 지난 후에 드레스덴에서 연주되었고 재연도 이루어졌지만, 이후에 그대로 방치되고 말았다. 그 사이에 그는 리엔치와 방황하는 네덜란드인을 완성하고 탄호이저에도 착수하는 등 분주한 시간을 보냈는데, 그런 바쁜 생활이 이 곡을 잊게 한 것이 아닌가 하는 의견도 있다.'},\n",
              "  {'qas': [{'answers': [{'text': '한스 폰 뷜로', 'answer_start': 402}],\n",
              "     'id': '6566495-1-0',\n",
              "     'question': '바그너의 작품을 시인의 피로 쓰여졌다고 극찬한 것은 누구인가?'},\n",
              "    {'answers': [{'text': '리스트', 'answer_start': 23}],\n",
              "     'id': '6566495-1-1',\n",
              "     'question': '잊혀져 있는 파우스트 서곡 1악장을 부활시킨 것은 누구인가?'},\n",
              "    {'answers': [{'text': '20루이의 금', 'answer_start': 345}],\n",
              "     'id': '6566495-1-2',\n",
              "     'question': '바그너는 다시 개정된 총보를 얼마를 받고 팔았는가?'},\n",
              "    {'answers': [{'text': '리스트', 'answer_start': 23}],\n",
              "     'id': '6566518-1-0',\n",
              "     'question': '파우스트 교향곡을 부활시킨 사람은?'},\n",
              "    {'answers': [{'text': '한스 폰 뷜로', 'answer_start': 402}],\n",
              "     'id': '6566518-1-1',\n",
              "     'question': '파우스트 교향곡을 피아노 독주용으로 편곡한 사람은?'},\n",
              "    {'answers': [{'text': '리스트', 'answer_start': 23}],\n",
              "     'id': '5917067-1-0',\n",
              "     'question': '1악장을 부활시켜 연주한 사람은?'},\n",
              "    {'answers': [{'text': '한스 폰 뷜로', 'answer_start': 402}],\n",
              "     'id': '5917067-1-1',\n",
              "     'question': '파우스트 교향곡에 감탄하여 피아노곡으로 편곡한 사람은?'},\n",
              "    {'answers': [{'text': '1840년', 'answer_start': 3}],\n",
              "     'id': '5917067-1-2',\n",
              "     'question': '리스트가 바그너와 알게 된 연도는?'}],\n",
              "   'context': '한편 1840년부터 바그너와 알고 지내던 리스트가 잊혀져 있던 1악장을 부활시켜 1852년에 바이마르에서 연주했다. 이것을 계기로 바그너도 이 작품에 다시 관심을 갖게 되었고, 그 해 9월에는 총보의 반환을 요구하여 이를 서곡으로 간추린 다음 수정을 했고 브라이트코프흐 & 헤르텔 출판사에서 출판할 개정판도 준비했다. 1853년 5월에는 리스트가 이 작품이 수정되었다는 것을 인정했지만, 끝내 바그너의 출판 계획은 무산되고 말았다. 이후 1855년에 리스트가 자신의 작품 파우스트 교향곡을 거의 완성하여 그 사실을 바그너에게 알렸고, 바그너는 다시 개정된 총보를 리스트에게 보내고 브라이트코프흐 & 헤르텔 출판사에는 20루이의 금을 받고 팔았다. 또한 그의 작품을 “하나하나의 음표가 시인의 피로 쓰여졌다”며 극찬했던 한스 폰 뷜로가 그것을 피아노 독주용으로 편곡했는데, 리스트는 그것을 약간 변형되었을 뿐이라고 지적했다. 이 서곡의 총보 첫머리에는 파우스트 1부의 내용 중 한 구절을 인용하고 있다.'},\n",
              "  {'qas': [{'answers': [{'text': '주제, 동기', 'answer_start': 70}],\n",
              "     'id': '6566495-2-0',\n",
              "     'question': '서주에는 무엇이 암시되어 있는가?'},\n",
              "    {'answers': [{'text': '제1바이올린', 'answer_start': 148}],\n",
              "     'id': '6566495-2-1',\n",
              "     'question': '첫부분에는 어떤 악기를 사용해 더욱 명확하게 나타내는가?'},\n",
              "    {'answers': [{'text': '소나타 형식', 'answer_start': 272}],\n",
              "     'id': '6566495-2-2',\n",
              "     'question': '주요부는 어떤 형식으로 되어 있는가?'},\n",
              "    {'answers': [{'text': '저음 주제', 'answer_start': 102}],\n",
              "     'id': '6566518-2-0',\n",
              "     'question': '첫 부분의 주요주제를 암시하는 주제는?'},\n",
              "    {'answers': [{'text': 'D장조', 'answer_start': 409}],\n",
              "     'id': '6566518-2-1',\n",
              "     'question': '제2주제의 축소된 재현부의 조성은?'},\n",
              "    {'answers': [{'text': '4/4박자', 'answer_start': 35}],\n",
              "     'id': '5917067-2-0',\n",
              "     'question': '곡이 시작할때의 박자는?'},\n",
              "    {'answers': [{'text': '고뇌와 갈망 동기, 청춘의 사랑 동기', 'answer_start': 115}],\n",
              "     'id': '5917067-2-1',\n",
              "     'question': '이 곡의 주요 주제는?'},\n",
              "    {'answers': [{'text': 'D장조', 'answer_start': 409}],\n",
              "     'id': '5917067-2-2',\n",
              "     'question': '제 2주제에선 무슨 장조로 재현되는가?'}],\n",
              "   'context': '이 작품은 라단조, Sehr gehalten(아주 신중하게), 4/4박자의 부드러운 서주로 서주로 시작되는데, 여기에는 주요 주제, 동기의 대부분이 암시, 예고되어 있다. 첫 부분의 저음 주제는 주요 주제(고뇌와 갈망 동기, 청춘의 사랑 동기)를 암시하고 있으며, 제1바이올린으로 더욱 명확하게 나타난다. 또한 그것을 이어받는 동기도 중요한 역할을 한다. 여기에 새로운 소재가 더해진 뒤에 새로운 주제도 연주된다. 주요부는 Sehr bewegt(아주 격동적으로), 2/2박자의 자유로운 소나타 형식으로 매우 드라마틱한 구상과 유기적인 구성을 하고 있다. 여기에는 지금까지의 주제나 소재 외에도 오보에에 의한 선율과 제2주제를 떠올리게 하는 부차적인 주제가 더해지는데, 중간부에서는 약보3이 중심이 되고 제2주제는 축소된 재현부에서 D장조로 재현된다. 마지막에는 주요 주제를 회상하면서 조용히 마친다.'}],\n",
              " 'title': '파우스트_서곡'}"
            ]
          },
          "metadata": {},
          "execution_count": 6
        }
      ]
    },
    {
      "cell_type": "markdown",
      "source": [
        "## EDA"
      ],
      "metadata": {
        "id": "TDzCkW_Jcqxw"
      }
    },
    {
      "cell_type": "markdown",
      "source": [
        "### Train"
      ],
      "metadata": {
        "id": "HKDONNH7cr1H"
      }
    },
    {
      "cell_type": "code",
      "source": [
        "file = filenames[1]\n",
        "filelocation = os.path.join(DATAPATH, file)\n",
        "\n",
        "with open(filelocation, 'r') as json_file:\n",
        "  data = json.load(json_file)['data']"
      ],
      "metadata": {
        "id": "wUrFCD0bcEN2"
      },
      "execution_count": 7,
      "outputs": []
    },
    {
      "cell_type": "code",
      "source": [
        "cont_lens = []\n",
        "q_lens = []\n",
        "a_lens = []\n",
        "\n",
        "para_num = 0\n",
        "cont_num = 0\n",
        "q_num = 0\n",
        "\n",
        "cont_unk_num = 0\n",
        "q_unk_num = 0\n",
        "a_unk_num = 0\n",
        "\n",
        "for x in range(len(data)):\n",
        "  paragraphs = data[x]['paragraphs']\n",
        "  para_num += 1\n",
        "\n",
        "  # context\n",
        "  for para in paragraphs:\n",
        "    context = para['context']\n",
        "    cont_num += 1\n",
        "    con_tokens = tokenizer.tokenize(context)\n",
        "    cont_lens.append(len(con_tokens))\n",
        "\n",
        "    for t in con_tokens:\n",
        "      if t == ['UNK']:\n",
        "        cont_unk_num += 1\n",
        "\n",
        "    # qas\n",
        "    qas = para['qas']\n",
        "    for qa in qas:\n",
        "      question = qa['question']\n",
        "      answer = qa['answers'][0]['text']\n",
        "      q_num += 1\n",
        "      q_tokens  = tokenizer.tokenize(question)\n",
        "      a_tokens = tokenizer.tokenize(answer)\n",
        "      q_lens.append(len(q_tokens))\n",
        "      a_lens.append(len(a_tokens))\n",
        "\n",
        "      for t in q_tokens:\n",
        "        if t == '[UNK]':\n",
        "          q_unk_num += 1\n",
        "      \n",
        "      for t in a_tokens:\n",
        "        if t == '[UNK]':\n",
        "          a_unk_num += 1"
      ],
      "metadata": {
        "id": "N6ZDFvDFcuP_"
      },
      "execution_count": 8,
      "outputs": []
    },
    {
      "cell_type": "code",
      "source": [
        "# context\n",
        "min = numpy.min(cont_lens)\n",
        "mean = numpy.mean(cont_lens)\n",
        "median = numpy.median(cont_lens)\n",
        "max = numpy.max(cont_lens)\n",
        "\n",
        "plt.hist(cont_lens, bins=50)\n",
        "plt.xlabel('# of tokens in a sample')\n",
        "plt.ylabel('# of samples')\n",
        "plt.title('context info')\n",
        "plt.show()\n",
        "\n",
        "print('-------------------------context info-----------------------------')\n",
        "print('# of paragraphs = {} | # of contexts = {}'.format(para_num, cont_num))\n",
        "print('min = {} | mean = {:.2f} | median = {:.2f} | max = {}'.format(min, mean, median, max))\n",
        "print('# of [UNK] tokens = {} | % of [UNK] tokens = {:.2f}%'.format(cont_unk_num, 100*(cont_unk_num/sum(cont_lens))))\n",
        "\n",
        "#question\n",
        "min = numpy.min(q_lens)\n",
        "mean = numpy.mean(q_lens)\n",
        "median = numpy.median(q_lens)\n",
        "max = numpy.max(q_lens)\n",
        "\n",
        "plt.hist(q_lens, bins=50)\n",
        "plt.xlabel('# of tokens in a sample')\n",
        "plt.ylabel('# of samples')\n",
        "plt.title('question info')\n",
        "plt.show()\n",
        "\n",
        "print('--------------- question info ---------------')\n",
        "print('# of questions = {}'.format(q_num))\n",
        "print('min = {} | mean = {:.2f} | median = {:.2f} | max = {}'.format(min, mean, median, max))\n",
        "print('# of [UNK] tokens = {} | % of [UNK] tokens = {:.2f}%'.format(q_unk_num, 100*(q_unk_num/sum(q_lens))))\n",
        "\n",
        "#answer\n",
        "min = numpy.min(a_lens)\n",
        "mean = numpy.mean(a_lens)\n",
        "median = numpy.median(a_lens)\n",
        "max = numpy.max(a_lens)\n",
        "\n",
        "plt.hist(a_lens, bins=50)\n",
        "plt.xlabel('# of tokens in a sample')\n",
        "plt.ylabel('# of samples')\n",
        "plt.title('answer info')\n",
        "plt.show()\n",
        "\n",
        "print('--------------- answer info ---------------')\n",
        "print('# of answers = {}'.format(q_num))\n",
        "print('min = {} | mean = {:.2f} | median = {:.2f} | max = {}'.format(min, mean, median, max))\n",
        "print('# of [UNK] tokens = {} | % of [UNK] tokens = {:.2f}%'.format(a_unk_num, 100*(a_unk_num/sum(a_lens))))"
      ],
      "metadata": {
        "colab": {
          "base_uri": "https://localhost:8080/",
          "height": 1000
        },
        "id": "iGltPA_Jd3q0",
        "outputId": "9655d902-cfb5-4bac-8683-d0637915baa7"
      },
      "execution_count": 9,
      "outputs": [
        {
          "output_type": "display_data",
          "data": {
            "text/plain": [
              "<Figure size 432x288 with 1 Axes>"
            ],
            "image/png": "[encoded data removed]"
          },
          "metadata": {
            "needs_background": "light"
          }
        },
        {
          "output_type": "stream",
          "name": "stdout",
          "text": [
            "-------------------------context info-----------------------------\n",
            "# of paragraphs = 1420 | # of contexts = 9681\n",
            "min = 147 | mean = 274.51 | median = 245.00 | max = 5925\n",
            "# of [UNK] tokens = 0 | % of [UNK] tokens = 0.00%\n"
          ]
        },
        {
          "output_type": "display_data",
          "data": {
            "text/plain": [
              "<Figure size 432x288 with 1 Axes>"
            ],
            "image/png": "[encoded data removed]"
          },
          "metadata": {
            "needs_background": "light"
          }
        },
        {
          "output_type": "stream",
          "name": "stdout",
          "text": [
            "--------------- question info ---------------\n",
            "# of questions = 60407\n",
            "min = 4 | mean = 18.46 | median = 18.00 | max = 82\n",
            "# of [UNK] tokens = 110 | % of [UNK] tokens = 0.01%\n"
          ]
        },
        {
          "output_type": "display_data",
          "data": {
            "text/plain": [
              "<Figure size 432x288 with 1 Axes>"
            ],
            "image/png": "[encoded data removed]"
          },
          "metadata": {
            "needs_background": "light"
          }
        },
        {
          "output_type": "stream",
          "name": "stdout",
          "text": [
            "--------------- answer info ---------------\n",
            "# of answers = 60407\n",
            "min = 1 | mean = 3.12 | median = 3.00 | max = 45\n",
            "# of [UNK] tokens = 109 | % of [UNK] tokens = 0.06%\n"
          ]
        }
      ]
    },
    {
      "cell_type": "markdown",
      "source": [
        "### Dev"
      ],
      "metadata": {
        "id": "_739yzN-e0C9"
      }
    },
    {
      "cell_type": "code",
      "source": [
        "file = filenames[0]\n",
        "filelocation = os.path.join(DATAPATH, file)\n",
        "\n",
        "with open(filelocation, 'r') as json_file:\n",
        "  data = json.load(json_file)['data']"
      ],
      "metadata": {
        "id": "l9pC5qi4eydU"
      },
      "execution_count": 10,
      "outputs": []
    },
    {
      "cell_type": "code",
      "source": [
        "cont_lens = []\n",
        "q_lens = []\n",
        "a_lens = []\n",
        "\n",
        "para_num = 0\n",
        "cont_num = 0\n",
        "q_num = 0\n",
        "\n",
        "cont_unk_num = 0\n",
        "q_unk_num = 0\n",
        "a_unk_num = 0\n",
        "\n",
        "for x in range(len(data)):\n",
        "  paragraphs = data[x]['paragraphs']\n",
        "  para_num += 1\n",
        "\n",
        "  # context\n",
        "  for para in paragraphs:\n",
        "    context = para['context']\n",
        "    cont_num += 1\n",
        "    con_tokens = tokenizer.tokenize(context)\n",
        "    cont_lens.append(len(con_tokens))\n",
        "\n",
        "    for t in con_tokens:\n",
        "      if t == ['UNK']:\n",
        "        cont_unk_num += 1\n",
        "\n",
        "    # qas\n",
        "    qas = para['qas']\n",
        "    for qa in qas:\n",
        "      question = qa['question']\n",
        "      answer = qa['answers'][0]['text']\n",
        "      q_num += 1\n",
        "      q_tokens  = tokenizer.tokenize(question)\n",
        "      a_tokens = tokenizer.tokenize(answer)\n",
        "      q_lens.append(len(q_tokens))\n",
        "      a_lens.append(len(a_tokens))\n",
        "\n",
        "      for t in q_tokens:\n",
        "        if t == '[UNK]':\n",
        "          q_unk_num += 1\n",
        "      \n",
        "      for t in a_tokens:\n",
        "        if t == '[UNK]':\n",
        "          a_unk_num += 1"
      ],
      "metadata": {
        "id": "hLZHkbH4e3yL"
      },
      "execution_count": 11,
      "outputs": []
    },
    {
      "cell_type": "code",
      "source": [
        "# context\n",
        "min = numpy.min(cont_lens)\n",
        "mean = numpy.mean(cont_lens)\n",
        "median = numpy.median(cont_lens)\n",
        "max = numpy.max(cont_lens)\n",
        "\n",
        "plt.hist(cont_lens, bins=50)\n",
        "plt.xlabel('# of tokens in a sample')\n",
        "plt.ylabel('# of samples')\n",
        "plt.title('context info')\n",
        "plt.show()\n",
        "\n",
        "print('-------------------------context info-----------------------------')\n",
        "print('# of paragraphs = {} | # of contexts = {}'.format(para_num, cont_num))\n",
        "print('min = {} | mean = {:.2f} | median = {:.2f} | max = {}'.format(min, mean, median, max))\n",
        "print('# of [UNK] tokens = {} | % of [UNK] tokens = {:.2f}%'.format(cont_unk_num, 100*(cont_unk_num/sum(cont_lens))))\n",
        "\n",
        "#question\n",
        "min = numpy.min(q_lens)\n",
        "mean = numpy.mean(q_lens)\n",
        "median = numpy.median(q_lens)\n",
        "max = numpy.max(q_lens)\n",
        "\n",
        "plt.hist(q_lens, bins=50)\n",
        "plt.xlabel('# of tokens in a sample')\n",
        "plt.ylabel('# of samples')\n",
        "plt.title('question info')\n",
        "plt.show()\n",
        "\n",
        "print('--------------- question info ---------------')\n",
        "print('# of questions = {}'.format(q_num))\n",
        "print('min = {} | mean = {:.2f} | median = {:.2f} | max = {}'.format(min, mean, median, max))\n",
        "print('# of [UNK] tokens = {} | % of [UNK] tokens = {:.2f}%'.format(q_unk_num, 100*(q_unk_num/sum(q_lens))))\n",
        "\n",
        "#answer\n",
        "min = numpy.min(a_lens)\n",
        "mean = numpy.mean(a_lens)\n",
        "median = numpy.median(a_lens)\n",
        "max = numpy.max(a_lens)\n",
        "\n",
        "plt.hist(a_lens, bins=50)\n",
        "plt.xlabel('# of tokens in a sample')\n",
        "plt.ylabel('# of samples')\n",
        "plt.title('answer info')\n",
        "plt.show()\n",
        "\n",
        "print('--------------- answer info ---------------')\n",
        "print('# of answers = {}'.format(q_num))\n",
        "print('min = {} | mean = {:.2f} | median = {:.2f} | max = {}'.format(min, mean, median, max))\n",
        "print('# of [UNK] tokens = {} | % of [UNK] tokens = {:.2f}%'.format(a_unk_num, 100*(a_unk_num/sum(a_lens))))"
      ],
      "metadata": {
        "colab": {
          "base_uri": "https://localhost:8080/",
          "height": 1000
        },
        "id": "ReSuwWKhe5Ps",
        "outputId": "579d8cc7-d7c6-4b46-f428-3a48c5608a30"
      },
      "execution_count": 12,
      "outputs": [
        {
          "output_type": "display_data",
          "data": {
            "text/plain": [
              "<Figure size 432x288 with 1 Axes>"
            ],
            "image/png": "[encoded data removed]"
          },
          "metadata": {
            "needs_background": "light"
          }
        },
        {
          "output_type": "stream",
          "name": "stdout",
          "text": [
            "-------------------------context info-----------------------------\n",
            "# of paragraphs = 140 | # of contexts = 964\n",
            "min = 166 | mean = 284.69 | median = 244.50 | max = 1450\n",
            "# of [UNK] tokens = 0 | % of [UNK] tokens = 0.00%\n"
          ]
        },
        {
          "output_type": "display_data",
          "data": {
            "text/plain": [
              "<Figure size 432x288 with 1 Axes>"
            ],
            "image/png": "[encoded data removed]"
          },
          "metadata": {
            "needs_background": "light"
          }
        },
        {
          "output_type": "stream",
          "name": "stdout",
          "text": [
            "--------------- question info ---------------\n",
            "# of questions = 5774\n",
            "min = 3 | mean = 18.19 | median = 17.00 | max = 58\n",
            "# of [UNK] tokens = 9 | % of [UNK] tokens = 0.01%\n"
          ]
        },
        {
          "output_type": "display_data",
          "data": {
            "text/plain": [
              "<Figure size 432x288 with 1 Axes>"
            ],
            "image/png": "[encoded data removed]"
          },
          "metadata": {
            "needs_background": "light"
          }
        },
        {
          "output_type": "stream",
          "name": "stdout",
          "text": [
            "--------------- answer info ---------------\n",
            "# of answers = 5774\n",
            "min = 1 | mean = 3.08 | median = 3.00 | max = 22\n",
            "# of [UNK] tokens = 10 | % of [UNK] tokens = 0.06%\n"
          ]
        }
      ]
    },
    {
      "cell_type": "markdown",
      "source": [
        "### 3. Feature 생성"
      ],
      "metadata": {
        "id": "3pfmDcRtpI-u"
      }
    },
    {
      "cell_type": "code",
      "source": [
        "def load_and_cache_examples(args, tokenizer, evaluate=False, output_examples=False):\n",
        "    if args.local_rank not in [-1, 0] and not evaluate:\n",
        "        # Make sure only the first process in distributed training process the dataset, and the others will use the cache\n",
        "        torch.distributed.barrier()\n",
        "\n",
        "    # Load data features from cache or dataset file\n",
        "    input_dir = args.data_dir if args.data_dir else \".\"\n",
        "    cached_features_file = os.path.join(\n",
        "        input_dir,\n",
        "        \"cached_{}_{}_{}\".format(\n",
        "            \"dev\" if evaluate else \"train\",\n",
        "            list(filter(None, args.model_name_or_path.split(\"/\"))).pop(),\n",
        "            str(args.max_seq_length),\n",
        "        ),\n",
        "    )\n",
        "\n",
        "    # Init features and dataset from cache if it exists\n",
        "    if os.path.exists(cached_features_file) and not args.overwrite_cache:\n",
        "        logger.info(\"Loading features from cached file %s\", cached_features_file)\n",
        "        features_and_dataset = torch.load(cached_features_file)\n",
        "        features, dataset, examples = (\n",
        "            features_and_dataset[\"features\"],\n",
        "            features_and_dataset[\"dataset\"],\n",
        "            features_and_dataset[\"examples\"],\n",
        "        )\n",
        "    else:\n",
        "        logger.info(\"Creating features from dataset file at %s\", input_dir)\n",
        "\n",
        "        if not args.data_dir and ((evaluate and not args.predict_file) or (not evaluate and not args.train_file)):\n",
        "            try:\n",
        "                import tensorflow_datasets as tfds\n",
        "            except ImportError:\n",
        "                raise ImportError(\"If not data_dir is specified, tensorflow_datasets needs to be installed.\")\n",
        "\n",
        "            if args.version_2_with_negative:\n",
        "                logger.warning(\"tensorflow_datasets does not handle version 2 of SQuAD.\")\n",
        "\n",
        "            tfds_examples = tfds.load(\"squad\")\n",
        "            examples = SquadV1Processor().get_examples_from_dataset(tfds_examples, evaluate=evaluate)\n",
        "        else:\n",
        "            processor = SquadV2Processor() if args.version_2_with_negative else SquadV1Processor()\n",
        "            if evaluate:\n",
        "                examples = processor.get_dev_examples(args.data_dir, filename=args.predict_file)\n",
        "            else:\n",
        "                examples = processor.get_train_examples(args.data_dir, filename=args.train_file)\n",
        "\n",
        "        features, dataset = squad_convert_examples_to_features(\n",
        "            examples=examples,\n",
        "            tokenizer=tokenizer,\n",
        "            max_seq_length=args.max_seq_length,\n",
        "            doc_stride=args.doc_stride,\n",
        "            max_query_length=args.max_query_length,\n",
        "            is_training=not evaluate,\n",
        "            return_dataset=\"pt\",\n",
        "            threads=args.threads,\n",
        "        )\n",
        "\n",
        "        if args.local_rank in [-1, 0]:\n",
        "            logger.info(\"Saving features into cached file %s\", cached_features_file)\n",
        "            torch.save({\"features\": features, \"dataset\": dataset, \"examples\": examples}, cached_features_file)\n",
        "\n",
        "    if args.local_rank == 0 and not evaluate:\n",
        "        # Make sure only the first process in distributed training process the dataset, and the others will use the cache\n",
        "        torch.distributed.barrier()\n",
        "\n",
        "    if output_examples:\n",
        "        return dataset, examples, features\n",
        "    return dataset"
      ],
      "metadata": {
        "id": "8RQZL5fApOCb"
      },
      "execution_count": 14,
      "outputs": []
    },
    {
      "cell_type": "markdown",
      "source": [
        "## Training\n",
        "- 하이퍼파라미터 설정\n",
        "  - model_type\n",
        "    - transformers의 MODEL_FOR_QUESTION_ANSWERING_MAPPING 목록에 있는 모델 종류 중 선택\n",
        "    - 'albert', 'bart', 'bert', 'big_bird', 'bigbird_pegasus', 'bloom', 'deberta', 'deberta-v2', 'distilbert', 'electra', 'ernie', 'flaubert', 'fnet', 'funnel', 'gptj', 'ibert', 'layoutlmv2', 'layoutlmv3', 'led', 'lilt', 'longformer', 'mbart', 'megatron-bert', 'mobilebert', 'reformer', 'rembert', 'roberta', 'roformer', 'splinter', 'squeezebert', 'xlm', 'xlm-roberta', 'xlm-roberta-xl', 'xlnet', 'yoso’ 등\n",
        "  - model_name_or_path\n",
        "    - 사전 학습 모델 경로 혹은 huggingface.co/models에 업로드 된 model idenfitier\n",
        "  - output_dir\n",
        "    - 모델의 checkpoint 및 prediction 파일 저장 경로\n",
        "  - data_dir\n",
        "    - 데이터셋 경로. 설정을 하지 않으면 tensorflow_datasets을 통해 실행\n",
        "  - train_file\n",
        "    - 학습 파일. 설정을 하지 않으면 tensorflow_datasets을 통해 실행\n",
        "  - predict_file\n",
        "    - 평가 파일. 설정을 하지 않으면 tensorflow_datasets을 통해 실행\n",
        "  - config_name\n",
        "    - model_name과 동일하지 않을 시 설정하는 config 이름 혹은 경로\n",
        "  - tokenizer_name\n",
        "    - model_name과 동일하지 않을 시 설정하는 tokenizer 이름 혹은 경로\n",
        "  - cache_dir\n",
        "    - huggingface.co에서 다운로드한 사전 학습 모델 저장 경로\n",
        "  - version_2_with_negative\n",
        "    - no-answer 포함하는 데이터셋일 경우 true로 설정\n",
        "  - null_score_diff_threshold\n",
        "    - null_score - best_non_null이 prediction null의 threshold보다 큰 경우\n",
        "  - max_seq_length\n",
        "    - WordPiece로 토크나이징 후 input sequence의 길이. max_seq_length보다 길면 truncate, 짧으면 padding\n",
        "  - doc_stride\n",
        "    - 긴 문서를 chunk로 분할할 때 chunk 사이에 겹치는 토큰 수 (stride)\n",
        "  - max_query_length\n",
        "    - 질문 토큰의 최대 길이. max_query_length보다 길면 truncate\n",
        "  - do_train\n",
        "    - 학습 여부\n",
        "  - do_eval\n",
        "    - 평가 여부\n",
        "  - evaluate_during_training\n",
        "    - 학습 시 logging step마다 평가 여부\n",
        "  - do_lower_case\n",
        "    - uncased 모델일 경우 설정. 한국어 모델은 uncased 모델\n",
        "  - per_gpu_train_batch_size\n",
        "    - 학습 시 batch size\n",
        "  - per_gpu_eval_batch_size\n",
        "    - 평가 시 batch size\n",
        "  - learning_rate\n",
        "    - Adam optimizer의 초기 learning rate\n",
        "gradient_accumulation_steps\n",
        "    - backward/update pass 시 쌓을 steps 수\n",
        "batch size가 커서 OOM 에러가 발생할 때, mini-batch를 통해 구해진 gradient를 global gradient에 누적시킨 후 한번에 update\n",
        "    - 예: batch_size = 16, gradient_accumulation_steps = 16 이면 batch _size = 256의 효과이나 학습 시간이 매우 길어짐\n",
        "  - weight_decay\n",
        "    - overfitting을 막기 위한 weight decay\n",
        "  - adam_epsilon\n",
        "    - Adam optimizer의 epsilon 값\n",
        "  - max_grad_norm\n",
        "    - grandient clipping을 위한 max gradient norm\n",
        "  - num_train_epochs\n",
        "    - 학습 epoch 수\n",
        "  - max_steps\n",
        "    - 학습 step 수. 0보다 크면 num_train_epochs을 상속받음.\n",
        "  - warmup_steps\n",
        "    - linear warmup 을 위한 step 수\n",
        "  - n_best_size\n",
        "    - nbest_prediction.json 파일을 통해 생성되는 n-best prediction의 개수\n",
        "  - max_answer_length\n",
        "    - 생성할 수 있는 최대 정답의 길이\n",
        "  - verbose_logging\n",
        "    - true로 설정 시 데이터 전처리 시 발생하는 warning 모두 출력\n",
        "  - lang_id\n",
        "    - language-specific xlm 모델을 위한 값. (ELECTRA와는 상관 없음)\n",
        "  - logging_steps\n",
        "    - n step 마다 로그 작성\n",
        "  - save_steps\n",
        "    - n step 마다 checkpoint 저장\n",
        "  - eval_all_checkpoints\n",
        "    - 모든 checkpoint 평가 여부\n",
        "  - no_cuda\n",
        "    - true로 설정 시 GPU 사용하지 않음\n",
        "  - overwrite_output_dir\n",
        "    - output 디렉토리 overwrite 여부\n",
        "  - overwrite_cache\n",
        "    - cache 파일 overwrite 여부\n",
        "  - seed\n",
        "    - 초기화를 위한 random seed\n",
        "  - local_rank\n",
        "    - GPU 분산 학습을 위한 local rank\n",
        "  - fp16\n",
        "    - NVIDIA apex를 통해 계산량을 줄이기 위한 목적으로 single(fp32)와 half(fp16)를 섞은 mixed precision 사용 여부\n",
        "    - master weigth를 fp32에서 fp16로 변환한 후 back/forward propagatio은 fp16로 연산 수행. 이후 weight update 시 다시 fp32\n",
        "  - fp16_opt_level\n",
        "    - Apex AMP optimization\n",
        "  - server_ip\n",
        "    - distant debugging을 위해 사용\n",
        "  - server_port\n",
        "    - distant debugging을 위해 사용\n",
        "  - threads\n",
        "    - example에서 feature 생성할 때 사용할 multiple threads"
      ],
      "metadata": {
        "id": "veRcfge6mbEl"
      }
    },
    {
      "cell_type": "code",
      "source": [],
      "metadata": {
        "id": "odbA_8NEe6f8"
      },
      "execution_count": null,
      "outputs": []
    }
  ]
}